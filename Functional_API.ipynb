{
  "nbformat": 4,
  "nbformat_minor": 0,
  "metadata": {
    "colab": {
      "name": "Functional API.ipynb",
      "provenance": [],
      "mount_file_id": "1717ACnwatv--v27VGTOgMH3EXsIOZRML",
      "authorship_tag": "ABX9TyPseOdpU86fnF74W3APZaHP"
    },
    "kernelspec": {
      "name": "python3",
      "display_name": "Python 3"
    }
  },
  "cells": [
    {
      "cell_type": "markdown",
      "metadata": {
        "id": "GVfWs5v6f0rO",
        "colab_type": "text"
      },
      "source": [
        "###載入基本套件"
      ]
    },
    {
      "cell_type": "code",
      "metadata": {
        "id": "H8jnACLof7J5",
        "colab_type": "code",
        "colab": {}
      },
      "source": [
        "import matplotlib.pyplot as plt\n",
        "import numpy as np\n",
        "\n",
        "# Layers for FNN\n",
        "from tensorflow.keras.models import Sequential\n",
        "from tensorflow.keras.layers import Dense\n",
        "from tensorflow.keras.layers import Flatten\n",
        "\n",
        "# Layers for CNN\n",
        "from tensorflow.keras.layers import Conv2D, MaxPool2D, GlobalAveragePooling2D\n",
        "from tensorflow.keras.optimizers import SGD, Adam\n",
        "\n",
        "# For data preprocessing\n",
        "from tensorflow.keras import datasets\n",
        "from tensorflow.keras.utils import to_categorical\n",
        "\n",
        "#Functional API\n",
        "from tensorflow.keras.models import Model\n",
        "from tensorflow.keras.layers import Input\n",
        "from tensorflow.keras.layers import concatenate, add"
      ],
      "execution_count": 0,
      "outputs": []
    },
    {
      "cell_type": "markdown",
      "metadata": {
        "id": "iNqb4byff-F_",
        "colab_type": "text"
      },
      "source": [
        "### 載入mnist資料集"
      ]
    },
    {
      "cell_type": "code",
      "metadata": {
        "id": "8DBiU5yVg7Aq",
        "colab_type": "code",
        "colab": {}
      },
      "source": [
        "(x_train, y_train0), (x_test, y_test0) = datasets.fashion_mnist.load_data()"
      ],
      "execution_count": 0,
      "outputs": []
    },
    {
      "cell_type": "code",
      "metadata": {
        "id": "OGQThWdig9uc",
        "colab_type": "code",
        "colab": {}
      },
      "source": [
        "# Reshape size\n",
        "x_train = x_train.reshape(-1, 28*28)\n",
        "x_test = x_test.reshape(-1, 28*28)\n",
        "\n",
        "# Normalize the range of featurs\n",
        "x_train = x_train / x_train.max()\n",
        "x_test = x_test / x_test.max()\n",
        "\n",
        "# One-hot encoding\n",
        "y_train = to_categorical(y_train0, 10)\n",
        "y_test = to_categorical(y_test0, 10)"
      ],
      "execution_count": 0,
      "outputs": []
    },
    {
      "cell_type": "code",
      "metadata": {
        "id": "2MNHMeOGqBB2",
        "colab_type": "code",
        "colab": {
          "base_uri": "https://localhost:8080/",
          "height": 51
        },
        "outputId": "7a7c7b34-a27f-46e9-adda-1e5839c60abf"
      },
      "source": [
        "print('x_train.shape : ',x_train.shape)\n",
        "print('x_test.shape : ',x_test.shape)"
      ],
      "execution_count": 28,
      "outputs": [
        {
          "output_type": "stream",
          "text": [
            "x_train.shape :  (60000, 784)\n",
            "x_test.shape :  (10000, 784)\n"
          ],
          "name": "stdout"
        }
      ]
    },
    {
      "cell_type": "code",
      "metadata": {
        "id": "LXiiQSwklM9z",
        "colab_type": "code",
        "colab": {}
      },
      "source": [
        "f_1 = Dense(400, activation='relu')\n",
        "f_2 = Dense(200, activation='relu')\n",
        "f_3 = Dense(200, activation='relu')\n",
        "f_4 = Dense(100, activation='relu')\n",
        "f_5 = Dense(100, activation='relu')\n",
        "f_6 = Dense(10,activation='softmax')"
      ],
      "execution_count": 0,
      "outputs": []
    },
    {
      "cell_type": "code",
      "metadata": {
        "id": "kqPQ6Me5nv-P",
        "colab_type": "code",
        "colab": {}
      },
      "source": [
        "from IPython.display import Image\n",
        "Image(filename=\"流程.jpg\")"
      ],
      "execution_count": 0,
      "outputs": []
    },
    {
      "cell_type": "code",
      "metadata": {
        "id": "pvx2b-Sblyh7",
        "colab_type": "code",
        "colab": {}
      },
      "source": [
        "h_1 = f_1(x)\n",
        "h_2 = f_2(x)\n",
        "w = concatenate([h_1, h_2])\n",
        "h_3 = f_3(w)\n",
        "h_4 = f_4(h_3)\n",
        "h_5 = f_5(h_3)\n",
        "t = concatenate([h_4, h_5])\n",
        "y = f_6(t)"
      ],
      "execution_count": 0,
      "outputs": []
    },
    {
      "cell_type": "code",
      "metadata": {
        "id": "ZeURXZEHpGtx",
        "colab_type": "code",
        "colab": {
          "base_uri": "https://localhost:8080/",
          "height": 86
        },
        "outputId": "d44a2ae5-ed2f-4952-c578-1b1aa061c860"
      },
      "source": [
        "print(x)\n",
        "print(w)\n",
        "print(t)\n",
        "print(y)"
      ],
      "execution_count": 31,
      "outputs": [
        {
          "output_type": "stream",
          "text": [
            "Tensor(\"input_1:0\", shape=(None, 784), dtype=float32)\n",
            "Tensor(\"concatenate_4/Identity:0\", shape=(None, 600), dtype=float32)\n",
            "Tensor(\"concatenate_5/Identity:0\", shape=(None, 200), dtype=float32)\n",
            "Tensor(\"dense_23/Identity:0\", shape=(None, 10), dtype=float32)\n"
          ],
          "name": "stdout"
        }
      ]
    },
    {
      "cell_type": "code",
      "metadata": {
        "id": "Px_kDic8oSZy",
        "colab_type": "code",
        "colab": {
          "base_uri": "https://localhost:8080/",
          "height": 502
        },
        "outputId": "5e76d543-6dad-4c15-cacc-b7c7924d0689"
      },
      "source": [
        "#看模型的summary\n",
        "\n",
        "model = Model(x, y)\n",
        "model.summary()"
      ],
      "execution_count": 32,
      "outputs": [
        {
          "output_type": "stream",
          "text": [
            "Model: \"model_2\"\n",
            "__________________________________________________________________________________________________\n",
            "Layer (type)                    Output Shape         Param #     Connected to                     \n",
            "==================================================================================================\n",
            "input_1 (InputLayer)            [(None, 784)]        0                                            \n",
            "__________________________________________________________________________________________________\n",
            "dense_18 (Dense)                (None, 400)          314000      input_1[0][0]                    \n",
            "__________________________________________________________________________________________________\n",
            "dense_19 (Dense)                (None, 200)          157000      input_1[0][0]                    \n",
            "__________________________________________________________________________________________________\n",
            "concatenate_4 (Concatenate)     (None, 600)          0           dense_18[0][0]                   \n",
            "                                                                 dense_19[0][0]                   \n",
            "__________________________________________________________________________________________________\n",
            "dense_20 (Dense)                (None, 200)          120200      concatenate_4[0][0]              \n",
            "__________________________________________________________________________________________________\n",
            "dense_21 (Dense)                (None, 100)          20100       dense_20[0][0]                   \n",
            "__________________________________________________________________________________________________\n",
            "dense_22 (Dense)                (None, 100)          20100       dense_20[0][0]                   \n",
            "__________________________________________________________________________________________________\n",
            "concatenate_5 (Concatenate)     (None, 200)          0           dense_21[0][0]                   \n",
            "                                                                 dense_22[0][0]                   \n",
            "__________________________________________________________________________________________________\n",
            "dense_23 (Dense)                (None, 10)           2010        concatenate_5[0][0]              \n",
            "==================================================================================================\n",
            "Total params: 633,410\n",
            "Trainable params: 633,410\n",
            "Non-trainable params: 0\n",
            "__________________________________________________________________________________________________\n"
          ],
          "name": "stdout"
        }
      ]
    },
    {
      "cell_type": "code",
      "metadata": {
        "id": "_ybqSbVloh2x",
        "colab_type": "code",
        "colab": {}
      },
      "source": [
        "model.compile(loss='categorical_crossentropy', optimizer=Adam(), metrics=['accuracy'])"
      ],
      "execution_count": 0,
      "outputs": []
    },
    {
      "cell_type": "code",
      "metadata": {
        "id": "N_ckAk7uomkK",
        "colab_type": "code",
        "colab": {
          "base_uri": "https://localhost:8080/",
          "height": 381
        },
        "outputId": "c79043d8-51e2-44aa-8a6f-5c5cde8f9396"
      },
      "source": [
        "model.fit(x_train, y_train, batch_size=200, epochs=10, validation_data=(x_test, y_test))"
      ],
      "execution_count": 34,
      "outputs": [
        {
          "output_type": "stream",
          "text": [
            "Epoch 1/10\n",
            "300/300 [==============================] - 5s 18ms/step - loss: 0.5042 - accuracy: 0.8193 - val_loss: 0.4193 - val_accuracy: 0.8464\n",
            "Epoch 2/10\n",
            "300/300 [==============================] - 5s 17ms/step - loss: 0.3592 - accuracy: 0.8683 - val_loss: 0.3738 - val_accuracy: 0.8676\n",
            "Epoch 3/10\n",
            "300/300 [==============================] - 5s 17ms/step - loss: 0.3216 - accuracy: 0.8805 - val_loss: 0.3542 - val_accuracy: 0.8726\n",
            "Epoch 4/10\n",
            "300/300 [==============================] - 5s 17ms/step - loss: 0.2961 - accuracy: 0.8892 - val_loss: 0.3786 - val_accuracy: 0.8631\n",
            "Epoch 5/10\n",
            "300/300 [==============================] - 5s 17ms/step - loss: 0.2822 - accuracy: 0.8942 - val_loss: 0.3337 - val_accuracy: 0.8784\n",
            "Epoch 6/10\n",
            "300/300 [==============================] - 5s 17ms/step - loss: 0.2614 - accuracy: 0.9019 - val_loss: 0.3257 - val_accuracy: 0.8834\n",
            "Epoch 7/10\n",
            "300/300 [==============================] - 5s 17ms/step - loss: 0.2464 - accuracy: 0.9070 - val_loss: 0.3176 - val_accuracy: 0.8866\n",
            "Epoch 8/10\n",
            "300/300 [==============================] - 5s 17ms/step - loss: 0.2383 - accuracy: 0.9107 - val_loss: 0.3512 - val_accuracy: 0.8744\n",
            "Epoch 9/10\n",
            "300/300 [==============================] - 5s 17ms/step - loss: 0.2280 - accuracy: 0.9138 - val_loss: 0.3363 - val_accuracy: 0.8836\n",
            "Epoch 10/10\n",
            "300/300 [==============================] - 5s 17ms/step - loss: 0.2236 - accuracy: 0.9155 - val_loss: 0.3186 - val_accuracy: 0.8844\n"
          ],
          "name": "stdout"
        },
        {
          "output_type": "execute_result",
          "data": {
            "text/plain": [
              "<tensorflow.python.keras.callbacks.History at 0x7f007e1f5128>"
            ]
          },
          "metadata": {
            "tags": []
          },
          "execution_count": 34
        }
      ]
    },
    {
      "cell_type": "code",
      "metadata": {
        "id": "TTXIeQTSozOq",
        "colab_type": "code",
        "colab": {
          "base_uri": "https://localhost:8080/",
          "height": 86
        },
        "outputId": "288a87ed-cfc4-490c-9e5c-c9bbc00e302d"
      },
      "source": [
        "#查看模型準確率\n",
        "\n",
        "score0 = model.evaluate(x_train, y_train, batch_size=10000)\n",
        "score1 = model.evaluate(x_test, y_test, batch_size=10000)\n",
        "\n",
        "print(f'Loss: {score0[1]*100}')\n",
        "print(f'accuracy: {score1[1]*100}')"
      ],
      "execution_count": 38,
      "outputs": [
        {
          "output_type": "stream",
          "text": [
            "6/6 [==============================] - 1s 182ms/step - loss: 0.2088 - accuracy: 0.9185\n",
            "1/1 [==============================] - 0s 1ms/step - loss: 0.3186 - accuracy: 0.8844\n",
            "Loss: 91.84666872024536\n",
            "accuracy: 88.44000101089478\n"
          ],
          "name": "stdout"
        }
      ]
    },
    {
      "cell_type": "code",
      "metadata": {
        "id": "3RJmEo3Kq_A7",
        "colab_type": "code",
        "colab": {}
      },
      "source": [
        ""
      ],
      "execution_count": 0,
      "outputs": []
    }
  ]
}