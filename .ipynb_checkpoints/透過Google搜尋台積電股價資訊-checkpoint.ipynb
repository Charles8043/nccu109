{
 "cells": [
  {
   "cell_type": "code",
   "execution_count": 1,
   "metadata": {},
   "outputs": [],
   "source": [
    "%matplotlib inline\n",
    "\n",
    "import numpy as np\n",
    "import matplotlib.pyplot as plt\n",
    "import pandas as pd"
   ]
  },
  {
   "cell_type": "code",
   "execution_count": 9,
   "metadata": {},
   "outputs": [],
   "source": [
    "import requests\n",
    "from bs4 import BeautifulSoup\n",
    "\n",
    "\n",
    "G_FINANCE_URL = 'https://www.google.com/search?q='\n",
    "\n",
    "\n",
    "def get_web_page(url, stock_id):\n",
    "    headers = {'User-Agent': 'Mozilla/5.0 (Windows NT 10.0; Win64; x64) '\n",
    "                             'AppleWebKit/537.36 (KHTML, like Gecko) '\n",
    "                             'Chrome/66.0.3359.181 Safari/537.36'}\n",
    "    resp = requests.get(url + stock_id, headers=headers)\n",
    "    if resp.status_code != 200:\n",
    "        print('Invalid url:', resp.url)\n",
    "        return None\n",
    "    else:\n",
    "        return resp.text"
   ]
  },
  {
   "cell_type": "code",
   "execution_count": 10,
   "metadata": {},
   "outputs": [],
   "source": [
    "def get_stock_info(dom):\n",
    "    soup = BeautifulSoup(dom, 'html5lib')\n",
    "    stock = dict()\n",
    "\n",
    "    sections = soup.find_all('g-card-section')\n",
    "\n",
    "    stock['name'] = sections[1].div.text\n",
    "    spans = sections[1].find_all('div', recursive=False)[1].find_all('span', recursive=False)\n",
    "    stock['current_price'] = spans[0].text\n",
    "\n",
    "    for table in sections[3].find_all('table'):\n",
    "        for tr in table.find_all('tr')[:3]:\n",
    "            key = tr.find_all('td')[0].text.lower().strip()\n",
    "            value = tr.find_all('td')[1].text.strip()\n",
    "            stock[key] = value\n",
    "\n",
    "    return stock"
   ]
  },
  {
   "cell_type": "code",
   "execution_count": 11,
   "metadata": {},
   "outputs": [
    {
     "name": "stdout",
     "output_type": "stream",
     "text": [
      "name 台灣積體電路製造TPE: 2330\n",
      "current_price 已收盤: 3月17日 下午1:30 [GMT+8] · \n",
      "開盤 265.00\n",
      "最高 276.50\n",
      "最低 265.00\n",
      "殖利率 3.36%\n",
      "上次收盤價 276.50\n",
      "52 週高點 346.00\n"
     ]
    }
   ],
   "source": [
    "if __name__ == '__main__':\n",
    "    page = get_web_page(G_FINANCE_URL, 'TPE:2330')\n",
    "    if page:\n",
    "        stock = get_stock_info(page)\n",
    "        for k, v in stock.items():\n",
    "            print(k, v)"
   ]
  }
 ],
 "metadata": {
  "kernelspec": {
   "display_name": "Python 3",
   "language": "python",
   "name": "python3"
  },
  "language_info": {
   "codemirror_mode": {
    "name": "ipython",
    "version": 3
   },
   "file_extension": ".py",
   "mimetype": "text/x-python",
   "name": "python",
   "nbconvert_exporter": "python",
   "pygments_lexer": "ipython3",
   "version": "3.7.4"
  }
 },
 "nbformat": 4,
 "nbformat_minor": 2
}
