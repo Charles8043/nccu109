{
 "cells": [
  {
   "cell_type": "code",
   "execution_count": 2,
   "metadata": {},
   "outputs": [],
   "source": [
    "%matplotlib inline\n",
    "\n",
    "import numpy as np\n",
    "import matplotlib.pyplot as plt\n",
    "import pandas as pd"
   ]
  },
  {
   "cell_type": "code",
   "execution_count": 3,
   "metadata": {},
   "outputs": [
    {
     "name": "stdout",
     "output_type": "stream",
     "text": [
      "公車:150\n",
      "捷運:350\n",
      "高鐵:1500\n"
     ]
    }
   ],
   "source": [
    "# 每月交通費\n",
    "bus=int(input(\"公車:\"))\n",
    "mrt=int(input(\"捷運:\"))\n",
    "thsr=int(input(\"高鐵:\"))"
   ]
  },
  {
   "cell_type": "code",
   "execution_count": 6,
   "metadata": {},
   "outputs": [
    {
     "data": {
      "text/plain": [
       "([<matplotlib.patches.Wedge at 0x1f2f9020f08>,\n",
       "  <matplotlib.patches.Wedge at 0x1f2f902e448>,\n",
       "  <matplotlib.patches.Wedge at 0x1f2f902e3c8>],\n",
       " [Text(1.0696069100332037, 0.2567899102558786, 'bus'),\n",
       "  Text(0.5747484124062512, 0.9379041861706845, 'mrt'),\n",
       "  Text(-0.7778174593052025, -0.7778174593052023, 'thsr')])"
      ]
     },
     "execution_count": 6,
     "metadata": {},
     "output_type": "execute_result"
    },
    {
     "data": {
      "image/png": "[encoded data removed]",
      "text/plain": [
       "<Figure size 432x288 with 1 Axes>"
      ]
     },
     "metadata": {},
     "output_type": "display_data"
    }
   ],
   "source": [
    "a = [bus,mrt,thsr]\n",
    "labels = [\"bus\",\"mrt\",\"thsr\"]\n",
    "color = [\"red\",\"blue\",\"orange\"]\n",
    "plt.pie(a, labels = labels, colors = color)"
   ]
  },
  {
   "cell_type": "code",
   "execution_count": null,
   "metadata": {},
   "outputs": [],
   "source": []
  }
 ],
 "metadata": {
  "kernelspec": {
   "display_name": "Python 3",
   "language": "python",
   "name": "python3"
  },
  "language_info": {
   "codemirror_mode": {
    "name": "ipython",
    "version": 3
   },
   "file_extension": ".py",
   "mimetype": "text/x-python",
   "name": "python",
   "nbconvert_exporter": "python",
   "pygments_lexer": "ipython3",
   "version": "3.7.4"
  }
 },
 "nbformat": 4,
 "nbformat_minor": 2
}
