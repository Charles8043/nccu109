{
  "nbformat": 4,
  "nbformat_minor": 0,
  "metadata": {
    "colab": {
      "name": "transfer_learning.ipynb",
      "provenance": [],
      "collapsed_sections": [],
      "authorship_tag": "ABX9TyMQnxufDL5CjOCiXXIC5xhB"
    },
    "kernelspec": {
      "name": "python3",
      "display_name": "Python 3"
    }
  },
  "cells": [
    {
      "cell_type": "code",
      "metadata": {
        "id": "wDtxm8M2kqfq",
        "colab_type": "code",
        "outputId": "e67b8070-3cc2-4dfd-e186-91ecc50c6af6",
        "colab": {
          "base_uri": "https://localhost:8080/",
          "height": 103
        }
      },
      "source": [
        "%tensorflow_version 2.x  #切換版本"
      ],
      "execution_count": 0,
      "outputs": [
        {
          "output_type": "stream",
          "text": [
            "`%tensorflow_version` only switches the major version: 1.x or 2.x.\n",
            "You set: `2.x  #切換版本`. This will be interpreted as: `2.x`.\n",
            "\n",
            "\n",
            "TensorFlow 2.x selected.\n"
          ],
          "name": "stdout"
        }
      ]
    },
    {
      "cell_type": "code",
      "metadata": {
        "id": "cDdt3aN0k24R",
        "colab_type": "code",
        "colab": {}
      },
      "source": [
        "#基本套件\n",
        "import matplotlib.pyplot as plt\n",
        "import numpy as np\n",
        "#FNN\n",
        "from tensorflow.keras.models import Sequential\n",
        "from tensorflow.keras.layers import Dense\n",
        "from tensorflow.keras.layers import Flatten\n",
        "#CNN\n",
        "from tensorflow.keras.layers import Conv2D, MaxPool2D, GlobalAveragePooling2D\n",
        "from tensorflow.keras.optimizers import SGD, Adam\n",
        "from tensorflow.keras import datasets\n",
        "from tensorflow.keras.utils import to_categorical"
      ],
      "execution_count": 0,
      "outputs": []
    },
    {
      "cell_type": "markdown",
      "metadata": {
        "id": "-he33Q4rlRxp",
        "colab_type": "text"
      },
      "source": [
        "### 資料處理"
      ]
    },
    {
      "cell_type": "code",
      "metadata": {
        "id": "qGSCcfKflcoA",
        "colab_type": "code",
        "colab": {}
      },
      "source": [
        "#使用cifar10資料集\n",
        "name_list = ['airplane', 'automobile', 'bird', 'cat', 'deer', 'dog', 'frog', 'horse', 'ship', 'truck']"
      ],
      "execution_count": 0,
      "outputs": []
    },
    {
      "cell_type": "code",
      "metadata": {
        "id": "sWE-TUf6mAVt",
        "colab_type": "code",
        "outputId": "bf957178-2f80-4c96-bae1-1260f2986c1a",
        "colab": {
          "base_uri": "https://localhost:8080/",
          "height": 51
        }
      },
      "source": [
        "#載入\n",
        "(x_train, y_train0), (x_test, y_test0) = datasets.cifar10.load_data()\n",
        "#標準化\n",
        "x_train = x_train / x_train.max()\n",
        "x_test = x_test / x_test.max()"
      ],
      "execution_count": 4,
      "outputs": [
        {
          "output_type": "stream",
          "text": [
            "Downloading data from https://www.cs.toronto.edu/~kriz/cifar-10-python.tar.gz\n",
            "170500096/170498071 [==============================] - 11s 0us/step\n"
          ],
          "name": "stdout"
        }
      ]
    },
    {
      "cell_type": "code",
      "metadata": {
        "id": "7c3iIc1xmayN",
        "colab_type": "code",
        "outputId": "6b2965d9-8a83-4266-df8c-2be7517a9a93",
        "colab": {
          "base_uri": "https://localhost:8080/",
          "height": 34
        }
      },
      "source": [
        "x_train.shape"
      ],
      "execution_count": 5,
      "outputs": [
        {
          "output_type": "execute_result",
          "data": {
            "text/plain": [
              "(50000, 32, 32, 3)"
            ]
          },
          "metadata": {
            "tags": []
          },
          "execution_count": 5
        }
      ]
    },
    {
      "cell_type": "code",
      "metadata": {
        "id": "2IKpPrb8mS2t",
        "colab_type": "code",
        "colab": {}
      },
      "source": [
        "y_train = to_categorical(y_train0, 10)\n",
        "y_test = to_categorical(y_test0, 10)"
      ],
      "execution_count": 0,
      "outputs": []
    },
    {
      "cell_type": "code",
      "metadata": {
        "id": "zKW7zI4cmYK5",
        "colab_type": "code",
        "colab": {
          "base_uri": "https://localhost:8080/",
          "height": 264
        },
        "outputId": "5b02ded4-22fe-4cb2-fd99-11124c448ea9"
      },
      "source": [
        "one_pic = np.random.randint(x_train.shape[0])\n",
        "x_sample = x_train[one_pic]\n",
        "y_sample = y_train0[one_pic].squeeze()\n",
        "\n",
        "plt.imshow(x_sample)\n",
        "plt.title(name_list[y_sample])\n",
        "plt.axis('off');"
      ],
      "execution_count": 9,
      "outputs": [
        {
          "output_type": "display_data",
          "data": {
            "image/png": "[encoded data removed]",
            "text/plain": [
              "<Figure size 432x288 with 1 Axes>"
            ]
          },
          "metadata": {
            "tags": [],
            "needs_background": "light"
          }
        }
      ]
    },
    {
      "cell_type": "markdown",
      "metadata": {
        "id": "4zcYHfDUnmJU",
        "colab_type": "text"
      },
      "source": [
        "### 建立我們的神經網路 CNN"
      ]
    },
    {
      "cell_type": "code",
      "metadata": {
        "id": "0i4Xp6MopBlP",
        "colab_type": "code",
        "colab": {}
      },
      "source": [
        "#建立卷積神經網路，fiilter為16,64,128\n",
        "CNN_layers = [Conv2D(16, (3, 3), input_shape=(32, 32, 3), padding='same', activation='relu', name='Conv_1'),\n",
        "              MaxPool2D(),\n",
        "              Conv2D(64, (3, 3), padding='same', activation='relu', name='Conv_2'),\n",
        "              MaxPool2D(),\n",
        "              Conv2D(128, (3, 3), padding='same', activation='relu', name='Conv_3'),\n",
        "              GlobalAveragePooling2D()]\n",
        "#全連接層\n",
        "FC_layers = [Dense(units=64, activation='relu'),\n",
        "             Dense(units=10, activation='softmax')]"
      ],
      "execution_count": 0,
      "outputs": []
    },
    {
      "cell_type": "code",
      "metadata": {
        "id": "6EYQGhcYqAUt",
        "colab_type": "code",
        "colab": {
          "base_uri": "https://localhost:8080/",
          "height": 155
        },
        "outputId": "a0e65f71-4970-458b-e4fa-cd50eb13560d"
      },
      "source": [
        "CNN_layers + FC_layers"
      ],
      "execution_count": 11,
      "outputs": [
        {
          "output_type": "execute_result",
          "data": {
            "text/plain": [
              "[<tensorflow.python.keras.layers.convolutional.Conv2D at 0x7fe582b6ec88>,\n",
              " <tensorflow.python.keras.layers.pooling.MaxPooling2D at 0x7fe5819a4518>,\n",
              " <tensorflow.python.keras.layers.convolutional.Conv2D at 0x7fe5819a48d0>,\n",
              " <tensorflow.python.keras.layers.pooling.MaxPooling2D at 0x7fe5819a4b70>,\n",
              " <tensorflow.python.keras.layers.convolutional.Conv2D at 0x7fe5819a4d30>,\n",
              " <tensorflow.python.keras.layers.pooling.GlobalAveragePooling2D at 0x7fe5819a4fd0>,\n",
              " <tensorflow.python.keras.layers.core.Dense at 0x7fe5819f0b00>,\n",
              " <tensorflow.python.keras.layers.core.Dense at 0x7fe5819b7390>]"
            ]
          },
          "metadata": {
            "tags": []
          },
          "execution_count": 11
        }
      ]
    },
    {
      "cell_type": "code",
      "metadata": {
        "id": "vuLcjF4tqCUH",
        "colab_type": "code",
        "colab": {}
      },
      "source": [
        "model_1 = Sequential(CNN_layers+FC_layers)"
      ],
      "execution_count": 0,
      "outputs": []
    },
    {
      "cell_type": "code",
      "metadata": {
        "id": "ULrBqsfaqIFL",
        "colab_type": "code",
        "colab": {
          "base_uri": "https://localhost:8080/",
          "height": 433
        },
        "outputId": "1686c8ae-53f3-4aa1-ac76-13deb2a223f8"
      },
      "source": [
        "#看一下summary\n",
        "model_1.summary()"
      ],
      "execution_count": 13,
      "outputs": [
        {
          "output_type": "stream",
          "text": [
            "Model: \"sequential\"\n",
            "_________________________________________________________________\n",
            "Layer (type)                 Output Shape              Param #   \n",
            "=================================================================\n",
            "Conv_1 (Conv2D)              (None, 32, 32, 16)        448       \n",
            "_________________________________________________________________\n",
            "max_pooling2d (MaxPooling2D) (None, 16, 16, 16)        0         \n",
            "_________________________________________________________________\n",
            "Conv_2 (Conv2D)              (None, 16, 16, 64)        9280      \n",
            "_________________________________________________________________\n",
            "max_pooling2d_1 (MaxPooling2 (None, 8, 8, 64)          0         \n",
            "_________________________________________________________________\n",
            "Conv_3 (Conv2D)              (None, 8, 8, 128)         73856     \n",
            "_________________________________________________________________\n",
            "global_average_pooling2d (Gl (None, 128)               0         \n",
            "_________________________________________________________________\n",
            "dense (Dense)                (None, 64)                8256      \n",
            "_________________________________________________________________\n",
            "dense_1 (Dense)              (None, 10)                650       \n",
            "=================================================================\n",
            "Total params: 92,490\n",
            "Trainable params: 92,490\n",
            "Non-trainable params: 0\n",
            "_________________________________________________________________\n"
          ],
          "name": "stdout"
        }
      ]
    },
    {
      "cell_type": "code",
      "metadata": {
        "id": "aTNfBs91qIxn",
        "colab_type": "code",
        "colab": {}
      },
      "source": [
        "#compile\n",
        "model_1.compile(loss='categorical_crossentropy', optimizer='adam', metrics=['categorical_accuracy'])"
      ],
      "execution_count": 0,
      "outputs": []
    },
    {
      "cell_type": "markdown",
      "metadata": {
        "id": "4sNCmFBFqd8P",
        "colab_type": "text"
      },
      "source": [
        "###開始訓練我們的模型\n"
      ]
    },
    {
      "cell_type": "code",
      "metadata": {
        "id": "shQ69IZkrPJn",
        "colab_type": "code",
        "colab": {
          "base_uri": "https://localhost:8080/",
          "height": 401
        },
        "outputId": "72979af4-bea6-40c4-e435-daf16bf38cfa"
      },
      "source": [
        "#batch size = 200 \n",
        "#epoch = 10\n",
        "model_1.fit(x_train, y_train, batch_size=200, epochs=10,validation_data=(x_test, y_test))"
      ],
      "execution_count": 15,
      "outputs": [
        {
          "output_type": "stream",
          "text": [
            "Epoch 1/10\n",
            "250/250 [==============================] - 76s 303ms/step - loss: 1.9389 - categorical_accuracy: 0.2651 - val_loss: 1.7309 - val_categorical_accuracy: 0.3561\n",
            "Epoch 2/10\n",
            "250/250 [==============================] - 76s 304ms/step - loss: 1.6789 - categorical_accuracy: 0.3745 - val_loss: 1.5983 - val_categorical_accuracy: 0.4168\n",
            "Epoch 3/10\n",
            "250/250 [==============================] - 76s 304ms/step - loss: 1.5590 - categorical_accuracy: 0.4282 - val_loss: 1.5027 - val_categorical_accuracy: 0.4521\n",
            "Epoch 4/10\n",
            "250/250 [==============================] - 76s 305ms/step - loss: 1.4879 - categorical_accuracy: 0.4538 - val_loss: 1.4271 - val_categorical_accuracy: 0.4777\n",
            "Epoch 5/10\n",
            "250/250 [==============================] - 76s 304ms/step - loss: 1.4294 - categorical_accuracy: 0.4785 - val_loss: 1.3974 - val_categorical_accuracy: 0.4904\n",
            "Epoch 6/10\n",
            "250/250 [==============================] - 76s 304ms/step - loss: 1.3794 - categorical_accuracy: 0.4967 - val_loss: 1.4010 - val_categorical_accuracy: 0.4987\n",
            "Epoch 7/10\n",
            "250/250 [==============================] - 76s 304ms/step - loss: 1.3350 - categorical_accuracy: 0.5160 - val_loss: 1.3338 - val_categorical_accuracy: 0.5228\n",
            "Epoch 8/10\n",
            "250/250 [==============================] - 76s 304ms/step - loss: 1.3008 - categorical_accuracy: 0.5300 - val_loss: 1.2628 - val_categorical_accuracy: 0.5487\n",
            "Epoch 9/10\n",
            "250/250 [==============================] - 76s 303ms/step - loss: 1.2515 - categorical_accuracy: 0.5494 - val_loss: 1.2202 - val_categorical_accuracy: 0.5624\n",
            "Epoch 10/10\n",
            "250/250 [==============================] - 78s 312ms/step - loss: 1.2128 - categorical_accuracy: 0.5633 - val_loss: 1.2026 - val_categorical_accuracy: 0.5690\n"
          ],
          "name": "stdout"
        },
        {
          "output_type": "execute_result",
          "data": {
            "text/plain": [
              "<tensorflow.python.keras.callbacks.History at 0x7fe57b6d9e10>"
            ]
          },
          "metadata": {
            "tags": []
          },
          "execution_count": 15
        }
      ]
    },
    {
      "cell_type": "code",
      "metadata": {
        "id": "mV2TK7GXsbib",
        "colab_type": "code",
        "colab": {
          "base_uri": "https://localhost:8080/",
          "height": 51
        },
        "outputId": "93f6d449-4c25-48ec-e485-346e52cd4299"
      },
      "source": [
        "train_accuracy = model_1.evaluate(x_train, y_train)\n",
        "test_accuracy = model_1.evaluate(x_test, y_test)"
      ],
      "execution_count": 16,
      "outputs": [
        {
          "output_type": "stream",
          "text": [
            "1563/1563 [==============================] - 27s 17ms/step - loss: 1.1968 - categorical_accuracy: 0.5702\n",
            "313/313 [==============================] - 6s 18ms/step - loss: 1.2026 - categorical_accuracy: 0.5690\n"
          ],
          "name": "stdout"
        }
      ]
    },
    {
      "cell_type": "code",
      "metadata": {
        "id": "4DpSx-VAvFSk",
        "colab_type": "code",
        "colab": {
          "base_uri": "https://localhost:8080/",
          "height": 51
        },
        "outputId": "60294401-ce26-4162-a0bc-17bca2f669e5"
      },
      "source": [
        "#accuracy\n",
        "print(f'train_accuracy: {train_accuracy[1]}')\n",
        "print(f'test_accuracy: {test_accuracy[1]}')"
      ],
      "execution_count": 28,
      "outputs": [
        {
          "output_type": "stream",
          "text": [
            "train_accuracy: 0.5696799755096436\n",
            "test_accuracy: 0.5677000284194946\n"
          ],
          "name": "stdout"
        }
      ]
    },
    {
      "cell_type": "markdown",
      "metadata": {
        "id": "PYTQE55-v6dV",
        "colab_type": "text"
      },
      "source": [
        "### Cifar100"
      ]
    },
    {
      "cell_type": "code",
      "metadata": {
        "id": "I1-_QslQAHzS",
        "colab_type": "code",
        "colab": {
          "base_uri": "https://localhost:8080/",
          "height": 51
        },
        "outputId": "8a41dca8-ddaf-4121-d20d-ce659e882aee"
      },
      "source": [
        "#讀入資料\n",
        "(X_train, Y_train0), (X_test, Y_test0) = datasets.cifar100.load_data()\n",
        "\n",
        "#標準化\n",
        "X_train = X_train / X_train.max()\n",
        "X_test = X_test / X_test.max()\n",
        "\n",
        "\n",
        "Y_train = to_categorical(Y_train0, 100)\n",
        "Y_test = to_categorical(Y_test0, 100)"
      ],
      "execution_count": 17,
      "outputs": [
        {
          "output_type": "stream",
          "text": [
            "Downloading data from https://www.cs.toronto.edu/~kriz/cifar-100-python.tar.gz\n",
            "169009152/169001437 [==============================] - 11s 0us/step\n"
          ],
          "name": "stdout"
        }
      ]
    },
    {
      "cell_type": "code",
      "metadata": {
        "id": "j2o6hq8OBBdm",
        "colab_type": "code",
        "colab": {
          "base_uri": "https://localhost:8080/",
          "height": 283
        },
        "outputId": "54552752-f878-48b0-c8a5-decea3689381"
      },
      "source": [
        "sec_pic = np.random.randint(X_train.shape[0])\n",
        "X_sample = X_train[sec_pic]\n",
        "Y_sample = Y_train0[sec_pic].squeeze()\n",
        "\n",
        "plt.imshow(X_sample)"
      ],
      "execution_count": 21,
      "outputs": [
        {
          "output_type": "execute_result",
          "data": {
            "text/plain": [
              "<matplotlib.image.AxesImage at 0x7fe577ee3a58>"
            ]
          },
          "metadata": {
            "tags": []
          },
          "execution_count": 21
        },
        {
          "output_type": "display_data",
          "data": {
            "image/png": "[encoded data removed]",
            "text/plain": [
              "<Figure size 432x288 with 1 Axes>"
            ]
          },
          "metadata": {
            "tags": [],
            "needs_background": "light"
          }
        }
      ]
    },
    {
      "cell_type": "markdown",
      "metadata": {
        "id": "XrrmYKwwRElu",
        "colab_type": "text"
      },
      "source": [
        "### 用Frozen訓練"
      ]
    },
    {
      "cell_type": "code",
      "metadata": {
        "id": "t57VWGMEQl-P",
        "colab_type": "code",
        "colab": {}
      },
      "source": [
        "for layer in CNN_layers:\n",
        "    layer.trainable = False"
      ],
      "execution_count": 0,
      "outputs": []
    },
    {
      "cell_type": "code",
      "metadata": {
        "id": "mBcb52iXQ9YL",
        "colab_type": "code",
        "colab": {}
      },
      "source": [
        "FC_layers2 = [Dense(512, activation='relu'),\n",
        "              Dense(256, activation='relu'),\n",
        "              Dense(100, activation='softmax')]"
      ],
      "execution_count": 0,
      "outputs": []
    },
    {
      "cell_type": "markdown",
      "metadata": {
        "id": "Wvj6H2tLXq3e",
        "colab_type": "text"
      },
      "source": [
        "### model2"
      ]
    },
    {
      "cell_type": "code",
      "metadata": {
        "id": "4jep4fB8ROh7",
        "colab_type": "code",
        "colab": {
          "base_uri": "https://localhost:8080/",
          "height": 467
        },
        "outputId": "eaaa01c0-2a50-47e9-8098-a78733877058"
      },
      "source": [
        "model_2 = Sequential(CNN_layers+FC_layers2)\n",
        "model_2.summary()"
      ],
      "execution_count": 31,
      "outputs": [
        {
          "output_type": "stream",
          "text": [
            "Model: \"sequential_2\"\n",
            "_________________________________________________________________\n",
            "Layer (type)                 Output Shape              Param #   \n",
            "=================================================================\n",
            "Conv_1 (Conv2D)              (None, 32, 32, 16)        448       \n",
            "_________________________________________________________________\n",
            "max_pooling2d (MaxPooling2D) (None, 16, 16, 16)        0         \n",
            "_________________________________________________________________\n",
            "Conv_2 (Conv2D)              (None, 16, 16, 64)        9280      \n",
            "_________________________________________________________________\n",
            "max_pooling2d_1 (MaxPooling2 (None, 8, 8, 64)          0         \n",
            "_________________________________________________________________\n",
            "Conv_3 (Conv2D)              (None, 8, 8, 128)         73856     \n",
            "_________________________________________________________________\n",
            "global_average_pooling2d (Gl (None, 128)               0         \n",
            "_________________________________________________________________\n",
            "dense_5 (Dense)              (None, 512)               66048     \n",
            "_________________________________________________________________\n",
            "dense_6 (Dense)              (None, 256)               131328    \n",
            "_________________________________________________________________\n",
            "dense_7 (Dense)              (None, 100)               25700     \n",
            "=================================================================\n",
            "Total params: 306,660\n",
            "Trainable params: 223,076\n",
            "Non-trainable params: 83,584\n",
            "_________________________________________________________________\n"
          ],
          "name": "stdout"
        }
      ]
    },
    {
      "cell_type": "code",
      "metadata": {
        "id": "tX_FbzOVRb0P",
        "colab_type": "code",
        "colab": {}
      },
      "source": [
        "model_2.compile(loss='categorical_crossentropy', optimizer=\"adam\",metrics=['accuracy'])"
      ],
      "execution_count": 0,
      "outputs": []
    },
    {
      "cell_type": "markdown",
      "metadata": {
        "id": "-_E-5NOPRkaw",
        "colab_type": "text"
      },
      "source": [
        "###train"
      ]
    },
    {
      "cell_type": "code",
      "metadata": {
        "id": "pqc087meRoRB",
        "colab_type": "code",
        "colab": {
          "base_uri": "https://localhost:8080/",
          "height": 381
        },
        "outputId": "b444c447-bc67-4d3e-f62d-c03e2cc0dd95"
      },
      "source": [
        "model_2.fit( X_train, Y_train, batch_size=200, epochs=10, validation_data=(X_test, Y_test))"
      ],
      "execution_count": 34,
      "outputs": [
        {
          "output_type": "stream",
          "text": [
            "Epoch 1/10\n",
            "250/250 [==============================] - 30s 119ms/step - loss: 3.4578 - accuracy: 0.1710 - val_loss: 3.3416 - val_accuracy: 0.1939\n",
            "Epoch 2/10\n",
            "250/250 [==============================] - 30s 120ms/step - loss: 3.2512 - accuracy: 0.2080 - val_loss: 3.2012 - val_accuracy: 0.2153\n",
            "Epoch 3/10\n",
            "250/250 [==============================] - 30s 119ms/step - loss: 3.1322 - accuracy: 0.2298 - val_loss: 3.1189 - val_accuracy: 0.2316\n",
            "Epoch 4/10\n",
            "250/250 [==============================] - 30s 119ms/step - loss: 3.0531 - accuracy: 0.2440 - val_loss: 3.0457 - val_accuracy: 0.2502\n",
            "Epoch 5/10\n",
            "250/250 [==============================] - 30s 119ms/step - loss: 2.9852 - accuracy: 0.2572 - val_loss: 3.0076 - val_accuracy: 0.2513\n",
            "Epoch 6/10\n",
            "250/250 [==============================] - 30s 119ms/step - loss: 2.9297 - accuracy: 0.2671 - val_loss: 2.9518 - val_accuracy: 0.2671\n",
            "Epoch 7/10\n",
            "250/250 [==============================] - 30s 120ms/step - loss: 2.8853 - accuracy: 0.2761 - val_loss: 2.9299 - val_accuracy: 0.2731\n",
            "Epoch 8/10\n",
            "250/250 [==============================] - 30s 120ms/step - loss: 2.8432 - accuracy: 0.2846 - val_loss: 2.8911 - val_accuracy: 0.2774\n",
            "Epoch 9/10\n",
            "250/250 [==============================] - 30s 119ms/step - loss: 2.8002 - accuracy: 0.2933 - val_loss: 2.8792 - val_accuracy: 0.2836\n",
            "Epoch 10/10\n",
            "250/250 [==============================] - 30s 119ms/step - loss: 2.7665 - accuracy: 0.2990 - val_loss: 2.8367 - val_accuracy: 0.2924\n"
          ],
          "name": "stdout"
        },
        {
          "output_type": "execute_result",
          "data": {
            "text/plain": [
              "<tensorflow.python.keras.callbacks.History at 0x7fe577a35e48>"
            ]
          },
          "metadata": {
            "tags": []
          },
          "execution_count": 34
        }
      ]
    },
    {
      "cell_type": "code",
      "metadata": {
        "id": "s4hGUn8tSBUI",
        "colab_type": "code",
        "colab": {
          "base_uri": "https://localhost:8080/",
          "height": 86
        },
        "outputId": "e9c14710-287a-462c-cc97-8d9df911c430"
      },
      "source": [
        "train_accuracy_2 = model_2.evaluate(X_train, Y_train)\n",
        "test_accuracy_2 = model_2.evaluate(X_test, Y_test)\n",
        "\n",
        "#accuracy\n",
        "print(f'train_accuracy: {train_accuracy[1]}')\n",
        "print(f'test_accuracy: {test_accuracy[1]}')"
      ],
      "execution_count": 35,
      "outputs": [
        {
          "output_type": "stream",
          "text": [
            "1563/1563 [==============================] - 29s 18ms/step - loss: 2.7178 - accuracy: 0.3101\n",
            "313/313 [==============================] - 6s 18ms/step - loss: 2.8367 - accuracy: 0.2924\n",
            "train_accuracy: 0.5702400207519531\n",
            "test_accuracy: 0.5690000057220459\n"
          ],
          "name": "stdout"
        }
      ]
    },
    {
      "cell_type": "code",
      "metadata": {
        "id": "sRbS3yS5Uwsr",
        "colab_type": "code",
        "colab": {}
      },
      "source": [
        ""
      ],
      "execution_count": 0,
      "outputs": []
    }
  ]
}